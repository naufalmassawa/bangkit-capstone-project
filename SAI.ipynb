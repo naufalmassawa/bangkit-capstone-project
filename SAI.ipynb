{
 "cells": [
  {
   "cell_type": "code",
   "execution_count": 1,
   "metadata": {
    "id": "FLyRE4NZkdPH"
   },
   "outputs": [],
   "source": [
    "import os \n",
    "import random\n",
    "import shutil\n",
    "import numpy as np\n",
    "import pathlib\n",
    "import matplotlib.pyplot as plt\n",
    "import tensorflow as tf\n",
    "from tensorflow.keras.preprocessing.image import img_to_array, ImageDataGenerator"
   ]
  },
  {
   "cell_type": "markdown",
   "metadata": {
    "id": "L6bPRwve-O2D"
   },
   "source": [
    "# buat direktori train dan test"
   ]
  },
  {
   "cell_type": "code",
   "execution_count": 2,
   "metadata": {
    "id": "vFocedjemBj0"
   },
   "outputs": [],
   "source": [
    "root_dir = 'data'\n",
    "\n",
    "if os.path.exists(root_dir):\n",
    "  shutil.rmtree(root_dir)\n",
    "\n",
    "def create_dir (root_path):\n",
    "  kelas = ['Andreas', 'Boy Satria', 'Channel', 'Evan', 'Ivan', 'Laura', 'Mariana', 'Martinus', 'Winner', 'Fedrick']\n",
    "\n",
    "  for cl_name in kelas :\n",
    "    os.makedirs(os.path.join(f'{root_path}/training', cl_name))\n",
    "    os.makedirs(os.path.join(f'{root_path}/testing', cl_name))\n",
    "\n",
    "try :\n",
    "  create_dir (root_path=root_dir)\n",
    "except FileExistsError:\n",
    "  print(\"file doesn't exist\")"
   ]
  },
  {
   "cell_type": "code",
   "execution_count": 3,
   "metadata": {
    "colab": {
     "base_uri": "https://localhost:8080/"
    },
    "id": "9gN5eJVumacq",
    "outputId": "83dd3c14-494d-4f84-eb9c-a1cd82ba6905"
   },
   "outputs": [
    {
     "name": "stdout",
     "output_type": "stream",
     "text": [
      "data\\testing\n",
      "data\\training\n",
      "data\\testing\\Andreas\n",
      "data\\testing\\Boy Satria\n",
      "data\\testing\\Channel\n",
      "data\\testing\\Evan\n",
      "data\\testing\\Fedrick\n",
      "data\\testing\\Ivan\n",
      "data\\testing\\Laura\n",
      "data\\testing\\Mariana\n",
      "data\\testing\\Martinus\n",
      "data\\testing\\Winner\n",
      "data\\training\\Andreas\n",
      "data\\training\\Boy Satria\n",
      "data\\training\\Channel\n",
      "data\\training\\Evan\n",
      "data\\training\\Fedrick\n",
      "data\\training\\Ivan\n",
      "data\\training\\Laura\n",
      "data\\training\\Mariana\n",
      "data\\training\\Martinus\n",
      "data\\training\\Winner\n"
     ]
    }
   ],
   "source": [
    "for rootdir, dirs, files in os.walk(root_dir):\n",
    "  for subdir in dirs :\n",
    "    print(os.path.join(rootdir, subdir))"
   ]
  },
  {
   "cell_type": "markdown",
   "metadata": {
    "id": "KCj2Nt_x-ZYM"
   },
   "source": [
    "# menghubungkan direktori dataset ke training set dan test set"
   ]
  },
  {
   "cell_type": "code",
   "execution_count": 4,
   "metadata": {
    "id": "Y_cmqPKu7u2A"
   },
   "outputs": [],
   "source": [
    "from shutil import copyfile\n",
    "\n",
    "def split_data(SOURCE, TRAINING, TESTING, SPLIT_SIZE):\n",
    "    files = []\n",
    "    for filename in os.listdir(SOURCE):\n",
    "        file = SOURCE + filename\n",
    "        if os.path.getsize(file) > 0:\n",
    "            files.append(filename)\n",
    "        else:\n",
    "            print(filename + \" is zero length, so ignoring.\")\n",
    "            \n",
    "    files = os.listdir(SOURCE)\n",
    "    files = [file for file in files if os.path.getsize(os.path.join(SOURCE, file))>0]\n",
    "    files = random.sample(files, len(files))\n",
    "    limit = int(len(files) * SPLIT_SIZE)\n",
    "\n",
    "    for index, file in enumerate(files):\n",
    "        source = os.path.join(SOURCE, file)\n",
    "        if index < limit:\n",
    "            destination = os.path.join(TRAINING, file)\n",
    "        else:\n",
    "            destination = os.path.join(TESTING, file)  \n",
    "    \n",
    "        copyfile(source, destination)"
   ]
  },
  {
   "cell_type": "markdown",
   "metadata": {
    "id": "IDRc35Cq-i0l"
   },
   "source": [
    "# Split Data"
   ]
  },
  {
   "cell_type": "code",
   "execution_count": 5,
   "metadata": {
    "colab": {
     "base_uri": "https://localhost:8080/",
     "height": 414
    },
    "id": "WYXTvcG9-mGw",
    "outputId": "96cb08b9-147d-4e89-e7cf-6b8b2af6b3f0"
   },
   "outputs": [],
   "source": [
    "andreas_dir = \"dataset/Andreas/\"\n",
    "boy_dir = \"dataset/Boy Satria/\"\n",
    "channel_dir = \"dataset/Channel/\"\n",
    "evan_dir = \"dataset/Evan/\"\n",
    "fedrick_dir = \"dataset/Fedrick/\"\n",
    "ivan_dir = \"dataset/Ivan/\"\n",
    "laura_dir = \"dataset/Laura/\"\n",
    "mariana_dir = \"dataset/Mariana/\"\n",
    "martinus_dir = \"dataset/Martinus/\"\n",
    "winner_dir = \"dataset/Winner/\"\n",
    "\n",
    "train_dir = \"data/training/\"\n",
    "test_dir = \"data/testing/\"\n",
    "\n",
    "training_andreas_dir = os.path.join(train_dir, \"Andreas/\")\n",
    "training_boy_dir = os.path.join(train_dir, \"Boy Satria/\")\n",
    "training_channel_dir = os.path.join(train_dir, \"Channel/\")\n",
    "training_evan_dir = os.path.join(train_dir, \"Evan/\")\n",
    "training_fedrick_dir = os.path.join(train_dir, \"Fedrick/\")\n",
    "training_ivan_dir = os.path.join(train_dir, \"Ivan/\")\n",
    "training_laura_dir = os.path.join(train_dir, \"Laura/\")\n",
    "training_mariana_dir = os.path.join(train_dir, \"Mariana/\")\n",
    "training_martinus_dir = os.path.join(train_dir, \"Martinus/\")\n",
    "training_winner_dir = os.path.join(train_dir, \"Winner/\")\n",
    "\n",
    "testing_andreas_dir = os.path.join(test_dir, \"Andreas/\")\n",
    "testing_boy_dir = os.path.join(test_dir, \"Boy Satria/\")\n",
    "testing_channel_dir = os.path.join(test_dir, \"Channel/\")\n",
    "testing_evan_dir = os.path.join(test_dir, \"Evan/\")\n",
    "testing_fedrick_dir = os.path.join(test_dir, \"Fedrick/\")\n",
    "testing_ivan_dir = os.path.join(test_dir, \"Ivan/\")\n",
    "testing_laura_dir = os.path.join(test_dir, \"Laura/\")\n",
    "testing_mariana_dir = os.path.join(test_dir, \"Mariana/\")\n",
    "testing_martinus_dir = os.path.join(test_dir, \"Martinus/\")\n",
    "testing_winner_dir = os.path.join(test_dir, \"Winner/\")\n",
    "\n",
    "if len(os.listdir(training_andreas_dir)) > 0:\n",
    "  for f in os.scandir(training_andreas_dir):\n",
    "    os.remove(f.path)\n",
    "if len(os.listdir(training_boy_dir)) > 0:\n",
    "  for f in os.scandir(training_boy_dir):\n",
    "    os.remove(f.path)\n",
    "if len(os.listdir(training_channel_dir)) > 0:\n",
    "  for f in os.scandir(training_channel_dir):\n",
    "    os.remove(f.path)\n",
    "if len(os.listdir(training_evan_dir)) > 0:\n",
    "  for f in os.scandir(training_evan_dir):\n",
    "    os.remove(f.path)\n",
    "if len(os.listdir(training_fedrick_dir)) > 0:\n",
    "  for f in os.scandir(training_fedrick_dir):\n",
    "    os.remove(f.path)\n",
    "if len(os.listdir(training_ivan_dir)) > 0:\n",
    "  for f in os.scandir(training_ivan_dir):\n",
    "    os.remove(f.path)\n",
    "if len(os.listdir(training_laura_dir)) > 0:\n",
    "  for f in os.scandir(training_laura_dir):\n",
    "    os.remove(f.path)\n",
    "if len(os.listdir(training_mariana_dir)) > 0:\n",
    "  for f in os.scandir(training_mariana_dir):\n",
    "    os.remove(f.path)\n",
    "if len(os.listdir(training_martinus_dir)) > 0:\n",
    "  for f in os.scandir(training_martinus_dir):\n",
    "    os.remove(f.path)\n",
    "if len(os.listdir(training_winner_dir)) > 0:\n",
    "  for f in os.scandir(training_winner_dir):\n",
    "    os.remove(f.path)\n",
    "\n",
    "if len(os.listdir(testing_andreas_dir)) > 0:\n",
    "  for f in os.scandir(testing_andreas_dir):\n",
    "    os.remove(f.path)\n",
    "if len(os.listdir(testing_boy_dir)) > 0:\n",
    "  for f in os.scandir(testing_boy_dir):\n",
    "    os.remove(f.path)\n",
    "if len(os.listdir(testing_channel_dir)) > 0:\n",
    "  for f in os.scandir(testing_channel_dir):\n",
    "    os.remove(f.path)\n",
    "if len(os.listdir(testing_evan_dir)) > 0:\n",
    "  for f in os.scandir(testing_evan_dir):\n",
    "    os.remove(f.path)\n",
    "if len(os.listdir(testing_fedrick_dir)) > 0:\n",
    "  for f in os.scandir(testing_fedrick_dir):\n",
    "    os.remove(f.path)\n",
    "if len(os.listdir(testing_ivan_dir)) > 0:\n",
    "  for f in os.scandir(testing_ivan_dir):\n",
    "    os.remove(f.path)\n",
    "if len(os.listdir(testing_laura_dir)) > 0:\n",
    "  for f in os.scandir(testing_laura_dir):\n",
    "    os.remove(f.path)\n",
    "if len(os.listdir(testing_mariana_dir)) > 0:\n",
    "  for f in os.scandir(testing_mariana_dir):\n",
    "    os.remove(f.path)\n",
    "if len(os.listdir(testing_martinus_dir)) > 0:\n",
    "  for f in os.scandir(testing_martinus_dir):\n",
    "    os.remove(f.path)\n",
    "if len(os.listdir(testing_winner_dir)) > 0:\n",
    "  for f in os.scandir(testing_winner_dir):\n",
    "    os.remove(f.path)\n",
    "\n",
    "split_size = .9\n",
    "\n",
    "split_data(andreas_dir, training_andreas_dir, testing_andreas_dir, split_size)\n",
    "split_data(boy_dir, training_boy_dir, testing_boy_dir, split_size)\n",
    "split_data(channel_dir, training_channel_dir, testing_channel_dir, split_size)\n",
    "split_data(evan_dir, training_evan_dir, testing_evan_dir, split_size)\n",
    "split_data(fedrick_dir, training_fedrick_dir, testing_fedrick_dir, split_size)\n",
    "split_data(ivan_dir, training_ivan_dir, testing_ivan_dir, split_size)\n",
    "split_data(laura_dir, training_laura_dir, testing_laura_dir, split_size)\n",
    "split_data(mariana_dir, training_mariana_dir, testing_mariana_dir, split_size)\n",
    "split_data(martinus_dir, training_martinus_dir, testing_martinus_dir, split_size)\n",
    "split_data(winner_dir, training_winner_dir, testing_winner_dir, split_size)"
   ]
  },
  {
   "cell_type": "code",
   "execution_count": null,
   "metadata": {},
   "outputs": [],
   "source": []
  },
  {
   "cell_type": "code",
   "execution_count": 6,
   "metadata": {
    "id": "5S0VoGj-9_U4"
   },
   "outputs": [],
   "source": [
    "def train_val_gen (train_dir, test_dir):\n",
    "    train_datagen = ImageDataGenerator(rescale=1.0/255.,\n",
    "                                       rotation_range=40,\n",
    "                                       width_shift_range=0.2,\n",
    "                                       height_shift_range=0.2,\n",
    "                                       shear_range=0.2,\n",
    "                                       zoom_range=0.2,\n",
    "                                       horizontal_flip=False,\n",
    "                                       fill_mode=\"nearest\")\n",
    "    \n",
    "    train_gen = train_datagen.flow_from_directory(directory = train_dir,\n",
    "                                                  batch_size = 10,\n",
    "                                                  class_mode = 'binary',\n",
    "                                                  color_mode = 'grayscale',\n",
    "                                                  target_size = (200,200))\n",
    "    \n",
    "    val_datagen = ImageDataGenerator(rescale=1.0/255.)\n",
    "    val_gen = val_datagen.flow_from_directory(directory=test_dir,\n",
    "                                              batch_size = 1,\n",
    "                                              class_mode = 'binary',\n",
    "                                              color_mode = 'grayscale',\n",
    "                                              target_size = (200,200))\n",
    "    \n",
    "    return train_gen, val_gen"
   ]
  },
  {
   "cell_type": "code",
   "execution_count": 7,
   "metadata": {},
   "outputs": [
    {
     "name": "stdout",
     "output_type": "stream",
     "text": [
      "Found 900 images belonging to 10 classes.\n",
      "Found 100 images belonging to 10 classes.\n"
     ]
    }
   ],
   "source": [
    "train_gen, val_gen = train_val_gen(train_dir, test_dir)\n"
   ]
  },
  {
   "cell_type": "code",
   "execution_count": 8,
   "metadata": {},
   "outputs": [],
   "source": [
    "from tensorflow.keras.optimizers import Adam\n",
    "def create_model ():\n",
    "    model = tf.keras.models.Sequential()\n",
    "    model.add(tf.keras.layers.Conv2D(16, (3,3), activation = 'relu', padding='same', input_shape=(200,200,1)))\n",
    "    model.add(tf.keras.layers.MaxPooling2D(pool_size=(2,2), padding='valid'))\n",
    "    model.add(tf.keras.layers.Conv2D(16, (3,3), activation='relu', padding='same'))\n",
    "    model.add(tf.keras.layers.MaxPooling2D(pool_size=(2,2), padding='valid'))\n",
    "    model.add(tf.keras.layers.Conv2D(32, (3,3), activation='relu',padding='same'))\n",
    "    model.add(tf.keras.layers.MaxPooling2D(pool_size=(2,2), padding='valid'))\n",
    "    model.add(tf.keras.layers.Conv2D(32, (3,3), activation='relu',padding='same'))\n",
    "    model.add(tf.keras.layers.MaxPooling2D(pool_size=(2,2), padding='valid'))\n",
    "    model.add(tf.keras.layers.Conv2D(32, (3,3), activation='relu', padding='same'))\n",
    "    model.add(tf.keras.layers.MaxPooling2D(pool_size=(2,2), padding='valid'))\n",
    "    model.add(tf.keras.layers.Conv2D(64, (3,3), activation='relu', padding='same'))\n",
    "    model.add(tf.keras.layers.MaxPooling2D(pool_size=(2,2), padding='valid'))\n",
    "    model.add(tf.keras.layers.Conv2D(128, (3,3), activation='relu', padding='same'))\n",
    "    model.add(tf.keras.layers.MaxPooling2D(pool_size=(2,2), padding='valid'))\n",
    "    \n",
    "    model.add(tf.keras.layers.Dropout(0.25))\n",
    "    \n",
    "    model.add(tf.keras.layers.Flatten())\n",
    "    \n",
    "    model.add(tf.keras.layers.Dense(1024, activation='relu'))\n",
    "    model.add(tf.keras.layers.Dense(512, activation='relu'))\n",
    "    model.add(tf.keras.layers.Dense(256, activation='relu'))\n",
    "    model.add(tf.keras.layers.Dense(128, activation='relu'))\n",
    "    model.add(tf.keras.layers.Dense(128, activation='relu'))\n",
    "    model.add(tf.keras.layers.Dense(11, activation='softmax'))\n",
    "    \n",
    "    \n",
    "    model.compile(optimizer = Adam (lr=0.001),\n",
    "                  loss = 'sparse_categorical_crossentropy',\n",
    "                  metrics = ['accuracy'])\n",
    "    \n",
    "    \n",
    "    return model"
   ]
  },
  {
   "cell_type": "code",
   "execution_count": 9,
   "metadata": {},
   "outputs": [
    {
     "name": "stdout",
     "output_type": "stream",
     "text": [
      "Model: \"sequential\"\n",
      "_________________________________________________________________\n",
      " Layer (type)                Output Shape              Param #   \n",
      "=================================================================\n",
      " conv2d (Conv2D)             (None, 200, 200, 16)      160       \n",
      "                                                                 \n",
      " max_pooling2d (MaxPooling2D  (None, 100, 100, 16)     0         \n",
      " )                                                               \n",
      "                                                                 \n",
      " conv2d_1 (Conv2D)           (None, 100, 100, 16)      2320      \n",
      "                                                                 \n",
      " max_pooling2d_1 (MaxPooling  (None, 50, 50, 16)       0         \n",
      " 2D)                                                             \n",
      "                                                                 \n",
      " conv2d_2 (Conv2D)           (None, 50, 50, 32)        4640      \n",
      "                                                                 \n",
      " max_pooling2d_2 (MaxPooling  (None, 25, 25, 32)       0         \n",
      " 2D)                                                             \n",
      "                                                                 \n",
      " conv2d_3 (Conv2D)           (None, 25, 25, 32)        9248      \n",
      "                                                                 \n",
      " max_pooling2d_3 (MaxPooling  (None, 12, 12, 32)       0         \n",
      " 2D)                                                             \n",
      "                                                                 \n",
      " conv2d_4 (Conv2D)           (None, 12, 12, 32)        9248      \n",
      "                                                                 \n",
      " max_pooling2d_4 (MaxPooling  (None, 6, 6, 32)         0         \n",
      " 2D)                                                             \n",
      "                                                                 \n",
      " conv2d_5 (Conv2D)           (None, 6, 6, 64)          18496     \n",
      "                                                                 \n",
      " max_pooling2d_5 (MaxPooling  (None, 3, 3, 64)         0         \n",
      " 2D)                                                             \n",
      "                                                                 \n",
      " conv2d_6 (Conv2D)           (None, 3, 3, 128)         73856     \n",
      "                                                                 \n",
      " max_pooling2d_6 (MaxPooling  (None, 1, 1, 128)        0         \n",
      " 2D)                                                             \n",
      "                                                                 \n",
      " dropout (Dropout)           (None, 1, 1, 128)         0         \n",
      "                                                                 \n",
      " flatten (Flatten)           (None, 128)               0         \n",
      "                                                                 \n",
      " dense (Dense)               (None, 1024)              132096    \n",
      "                                                                 \n",
      " dense_1 (Dense)             (None, 512)               524800    \n",
      "                                                                 \n",
      " dense_2 (Dense)             (None, 256)               131328    \n",
      "                                                                 \n",
      " dense_3 (Dense)             (None, 128)               32896     \n",
      "                                                                 \n",
      " dense_4 (Dense)             (None, 128)               16512     \n",
      "                                                                 \n",
      " dense_5 (Dense)             (None, 11)                1419      \n",
      "                                                                 \n",
      "=================================================================\n",
      "Total params: 957,019\n",
      "Trainable params: 957,019\n",
      "Non-trainable params: 0\n",
      "_________________________________________________________________\n"
     ]
    },
    {
     "name": "stderr",
     "output_type": "stream",
     "text": [
      "c:\\Users\\wijay\\AppData\\Local\\Programs\\Python\\Python310\\lib\\site-packages\\keras\\optimizer_v2\\adam.py:105: UserWarning: The `lr` argument is deprecated, use `learning_rate` instead.\n",
      "  super(Adam, self).__init__(name, **kwargs)\n"
     ]
    },
    {
     "name": "stdout",
     "output_type": "stream",
     "text": [
      "Epoch 1/100\n",
      "90/90 [==============================] - 31s 317ms/step - loss: 2.3490 - accuracy: 0.0956 - val_loss: 2.3204 - val_accuracy: 0.1000\n",
      "Epoch 2/100\n",
      "90/90 [==============================] - 25s 273ms/step - loss: 2.3245 - accuracy: 0.1011 - val_loss: 2.3122 - val_accuracy: 0.1000\n",
      "Epoch 3/100\n",
      "90/90 [==============================] - 24s 266ms/step - loss: 2.2099 - accuracy: 0.1322 - val_loss: 1.7839 - val_accuracy: 0.2000\n",
      "Epoch 4/100\n",
      "90/90 [==============================] - 25s 281ms/step - loss: 1.9399 - accuracy: 0.2278 - val_loss: 1.6192 - val_accuracy: 0.4400\n",
      "Epoch 5/100\n",
      "90/90 [==============================] - 25s 273ms/step - loss: 1.6777 - accuracy: 0.3467 - val_loss: 1.3669 - val_accuracy: 0.6700\n",
      "Epoch 6/100\n",
      "90/90 [==============================] - 25s 280ms/step - loss: 1.4640 - accuracy: 0.4322 - val_loss: 1.0763 - val_accuracy: 0.6400\n",
      "Epoch 7/100\n",
      "90/90 [==============================] - 24s 269ms/step - loss: 1.2490 - accuracy: 0.5167 - val_loss: 0.6725 - val_accuracy: 0.7400\n",
      "Epoch 8/100\n",
      "90/90 [==============================] - 25s 274ms/step - loss: 1.0141 - accuracy: 0.6267 - val_loss: 0.4569 - val_accuracy: 0.8600\n",
      "Epoch 9/100\n",
      "90/90 [==============================] - 25s 273ms/step - loss: 0.9136 - accuracy: 0.6556 - val_loss: 0.4087 - val_accuracy: 0.8400\n",
      "Epoch 10/100\n",
      "90/90 [==============================] - 25s 274ms/step - loss: 0.6675 - accuracy: 0.7389 - val_loss: 0.4492 - val_accuracy: 0.7500\n",
      "Epoch 11/100\n",
      "90/90 [==============================] - 26s 284ms/step - loss: 0.6518 - accuracy: 0.7567 - val_loss: 0.2169 - val_accuracy: 0.8900\n",
      "Epoch 12/100\n",
      "90/90 [==============================] - 25s 274ms/step - loss: 0.5737 - accuracy: 0.8011 - val_loss: 0.2424 - val_accuracy: 0.9000\n",
      "Epoch 13/100\n",
      "90/90 [==============================] - 25s 275ms/step - loss: 0.5014 - accuracy: 0.8456 - val_loss: 0.1571 - val_accuracy: 0.9600\n",
      "Epoch 14/100\n",
      "90/90 [==============================] - 25s 273ms/step - loss: 0.4802 - accuracy: 0.8389 - val_loss: 0.1511 - val_accuracy: 0.9800\n",
      "Epoch 15/100\n",
      "90/90 [==============================] - 26s 286ms/step - loss: 0.4121 - accuracy: 0.8600 - val_loss: 0.1404 - val_accuracy: 0.9500\n",
      "Epoch 16/100\n",
      "90/90 [==============================] - 27s 292ms/step - loss: 0.3850 - accuracy: 0.8744 - val_loss: 0.0388 - val_accuracy: 1.0000\n",
      "Epoch 17/100\n",
      "90/90 [==============================] - 25s 277ms/step - loss: 0.3960 - accuracy: 0.8622 - val_loss: 0.1688 - val_accuracy: 0.9600\n",
      "Epoch 18/100\n",
      "90/90 [==============================] - 25s 277ms/step - loss: 0.3859 - accuracy: 0.8744 - val_loss: 0.1128 - val_accuracy: 0.9700\n",
      "Epoch 19/100\n",
      "90/90 [==============================] - 25s 273ms/step - loss: 0.3145 - accuracy: 0.8967 - val_loss: 0.0948 - val_accuracy: 0.9800\n",
      "Epoch 20/100\n",
      "90/90 [==============================] - 24s 270ms/step - loss: 0.2799 - accuracy: 0.9111 - val_loss: 0.0756 - val_accuracy: 0.9600\n",
      "Epoch 21/100\n",
      "90/90 [==============================] - 25s 275ms/step - loss: 0.3472 - accuracy: 0.8978 - val_loss: 0.1158 - val_accuracy: 0.9600\n",
      "Epoch 22/100\n",
      "90/90 [==============================] - 25s 275ms/step - loss: 0.2815 - accuracy: 0.9178 - val_loss: 0.0577 - val_accuracy: 0.9800\n",
      "Epoch 23/100\n",
      "90/90 [==============================] - 25s 278ms/step - loss: 0.2944 - accuracy: 0.9289 - val_loss: 0.0618 - val_accuracy: 0.9800\n",
      "Epoch 24/100\n",
      "90/90 [==============================] - 25s 278ms/step - loss: 0.2888 - accuracy: 0.9078 - val_loss: 0.0652 - val_accuracy: 0.9800\n",
      "Epoch 25/100\n",
      "90/90 [==============================] - 25s 278ms/step - loss: 0.2106 - accuracy: 0.9289 - val_loss: 0.0313 - val_accuracy: 0.9900\n",
      "Epoch 26/100\n",
      "90/90 [==============================] - 25s 274ms/step - loss: 0.2398 - accuracy: 0.9267 - val_loss: 0.0801 - val_accuracy: 0.9800\n",
      "Epoch 27/100\n",
      "90/90 [==============================] - 25s 278ms/step - loss: 0.1793 - accuracy: 0.9567 - val_loss: 0.0300 - val_accuracy: 0.9900\n",
      "Epoch 28/100\n",
      "90/90 [==============================] - 25s 276ms/step - loss: 0.2017 - accuracy: 0.9478 - val_loss: 0.0373 - val_accuracy: 0.9900\n",
      "Epoch 29/100\n",
      "90/90 [==============================] - 24s 270ms/step - loss: 0.2068 - accuracy: 0.9378 - val_loss: 0.0475 - val_accuracy: 0.9800\n",
      "Epoch 30/100\n",
      "90/90 [==============================] - 24s 271ms/step - loss: 0.1862 - accuracy: 0.9378 - val_loss: 0.0847 - val_accuracy: 0.9600\n",
      "Epoch 31/100\n",
      "90/90 [==============================] - 24s 270ms/step - loss: 0.1714 - accuracy: 0.9478 - val_loss: 0.0520 - val_accuracy: 0.9700\n",
      "Epoch 32/100\n",
      "90/90 [==============================] - 24s 269ms/step - loss: 0.1654 - accuracy: 0.9444 - val_loss: 0.0665 - val_accuracy: 0.9800\n",
      "Epoch 33/100\n",
      "90/90 [==============================] - 25s 273ms/step - loss: 0.1509 - accuracy: 0.9478 - val_loss: 0.0454 - val_accuracy: 0.9900\n",
      "Epoch 34/100\n",
      "90/90 [==============================] - 24s 271ms/step - loss: 0.1816 - accuracy: 0.9456 - val_loss: 0.0468 - val_accuracy: 0.9800\n",
      "Epoch 35/100\n",
      "90/90 [==============================] - 24s 269ms/step - loss: 0.1937 - accuracy: 0.9478 - val_loss: 0.0294 - val_accuracy: 0.9900\n",
      "Epoch 36/100\n",
      "90/90 [==============================] - 25s 280ms/step - loss: 0.1748 - accuracy: 0.9522 - val_loss: 0.0284 - val_accuracy: 0.9900\n",
      "Epoch 37/100\n",
      "90/90 [==============================] - 26s 285ms/step - loss: 0.1627 - accuracy: 0.9511 - val_loss: 0.0507 - val_accuracy: 0.9800\n",
      "Epoch 38/100\n",
      "90/90 [==============================] - 25s 273ms/step - loss: 0.2199 - accuracy: 0.9344 - val_loss: 0.0176 - val_accuracy: 0.9900\n",
      "Epoch 39/100\n",
      "90/90 [==============================] - 25s 280ms/step - loss: 0.1936 - accuracy: 0.9456 - val_loss: 0.0172 - val_accuracy: 0.9900\n",
      "Epoch 40/100\n",
      "90/90 [==============================] - 26s 288ms/step - loss: 0.0979 - accuracy: 0.9744 - val_loss: 0.0032 - val_accuracy: 1.0000\n",
      "Epoch 41/100\n",
      "90/90 [==============================] - 25s 276ms/step - loss: 0.0951 - accuracy: 0.9678 - val_loss: 0.0249 - val_accuracy: 0.9900\n",
      "Epoch 42/100\n",
      "90/90 [==============================] - 25s 275ms/step - loss: 0.1346 - accuracy: 0.9600 - val_loss: 0.0168 - val_accuracy: 0.9900\n",
      "Epoch 43/100\n",
      "90/90 [==============================] - 25s 280ms/step - loss: 0.1785 - accuracy: 0.9500 - val_loss: 0.0123 - val_accuracy: 0.9900\n",
      "Epoch 44/100\n",
      "90/90 [==============================] - 25s 272ms/step - loss: 0.0868 - accuracy: 0.9744 - val_loss: 0.0374 - val_accuracy: 0.9900\n",
      "Epoch 45/100\n",
      "90/90 [==============================] - 25s 273ms/step - loss: 0.2824 - accuracy: 0.9333 - val_loss: 0.0403 - val_accuracy: 0.9800\n",
      "Epoch 46/100\n",
      "90/90 [==============================] - 25s 279ms/step - loss: 0.1222 - accuracy: 0.9689 - val_loss: 0.0027 - val_accuracy: 1.0000\n",
      "Epoch 47/100\n",
      "90/90 [==============================] - 25s 278ms/step - loss: 0.1667 - accuracy: 0.9478 - val_loss: 0.0082 - val_accuracy: 1.0000\n",
      "Epoch 48/100\n",
      "90/90 [==============================] - 25s 278ms/step - loss: 0.1022 - accuracy: 0.9744 - val_loss: 0.0490 - val_accuracy: 0.9800\n",
      "Epoch 49/100\n",
      "90/90 [==============================] - 27s 303ms/step - loss: 0.1094 - accuracy: 0.9700 - val_loss: 0.0262 - val_accuracy: 0.9900\n",
      "Epoch 50/100\n",
      "90/90 [==============================] - 25s 275ms/step - loss: 0.0619 - accuracy: 0.9822 - val_loss: 0.0049 - val_accuracy: 1.0000\n",
      "Epoch 51/100\n",
      "90/90 [==============================] - 25s 272ms/step - loss: 0.1027 - accuracy: 0.9756 - val_loss: 0.0029 - val_accuracy: 1.0000\n",
      "Epoch 52/100\n",
      "90/90 [==============================] - 25s 276ms/step - loss: 0.0657 - accuracy: 0.9822 - val_loss: 6.2373e-04 - val_accuracy: 1.0000\n",
      "Epoch 53/100\n",
      "90/90 [==============================] - 24s 271ms/step - loss: 0.1403 - accuracy: 0.9656 - val_loss: 0.0021 - val_accuracy: 1.0000\n",
      "Epoch 54/100\n",
      "90/90 [==============================] - 25s 275ms/step - loss: 0.0735 - accuracy: 0.9844 - val_loss: 0.0148 - val_accuracy: 1.0000\n",
      "Epoch 55/100\n",
      "90/90 [==============================] - 25s 273ms/step - loss: 0.1348 - accuracy: 0.9611 - val_loss: 0.0092 - val_accuracy: 1.0000\n",
      "Epoch 56/100\n",
      "90/90 [==============================] - 27s 302ms/step - loss: 0.1241 - accuracy: 0.9656 - val_loss: 3.9434e-04 - val_accuracy: 1.0000\n",
      "Epoch 57/100\n",
      "90/90 [==============================] - 24s 267ms/step - loss: 0.1344 - accuracy: 0.9700 - val_loss: 1.6353e-04 - val_accuracy: 1.0000\n",
      "Epoch 58/100\n",
      "90/90 [==============================] - 24s 268ms/step - loss: 0.0862 - accuracy: 0.9800 - val_loss: 0.0125 - val_accuracy: 0.9900\n",
      "Epoch 59/100\n",
      "90/90 [==============================] - 25s 277ms/step - loss: 0.1325 - accuracy: 0.9644 - val_loss: 0.0050 - val_accuracy: 1.0000\n",
      "Epoch 60/100\n",
      "90/90 [==============================] - 24s 265ms/step - loss: 0.1434 - accuracy: 0.9644 - val_loss: 0.0116 - val_accuracy: 1.0000\n",
      "Epoch 61/100\n",
      "90/90 [==============================] - 25s 276ms/step - loss: 0.0898 - accuracy: 0.9733 - val_loss: 0.0140 - val_accuracy: 0.9900\n",
      "Epoch 62/100\n",
      "90/90 [==============================] - 25s 273ms/step - loss: 0.1185 - accuracy: 0.9711 - val_loss: 0.0065 - val_accuracy: 1.0000\n",
      "Epoch 63/100\n",
      "90/90 [==============================] - 25s 274ms/step - loss: 0.0948 - accuracy: 0.9800 - val_loss: 0.0095 - val_accuracy: 1.0000\n",
      "Epoch 64/100\n",
      "90/90 [==============================] - 25s 279ms/step - loss: 0.0435 - accuracy: 0.9900 - val_loss: 4.5205e-04 - val_accuracy: 1.0000\n",
      "Epoch 65/100\n",
      "90/90 [==============================] - 27s 294ms/step - loss: 0.1014 - accuracy: 0.9722 - val_loss: 0.0064 - val_accuracy: 1.0000\n",
      "Epoch 66/100\n",
      "90/90 [==============================] - 25s 277ms/step - loss: 0.0977 - accuracy: 0.9711 - val_loss: 0.0017 - val_accuracy: 1.0000\n",
      "Epoch 67/100\n",
      "90/90 [==============================] - 25s 274ms/step - loss: 0.0375 - accuracy: 0.9878 - val_loss: 2.0298e-04 - val_accuracy: 1.0000\n",
      "Epoch 68/100\n",
      "90/90 [==============================] - 25s 275ms/step - loss: 0.0456 - accuracy: 0.9900 - val_loss: 2.2356e-04 - val_accuracy: 1.0000\n",
      "Epoch 69/100\n",
      "90/90 [==============================] - 25s 275ms/step - loss: 0.0486 - accuracy: 0.9844 - val_loss: 0.0012 - val_accuracy: 1.0000\n",
      "Epoch 70/100\n",
      "90/90 [==============================] - 25s 276ms/step - loss: 0.0525 - accuracy: 0.9844 - val_loss: 0.0034 - val_accuracy: 1.0000\n",
      "Epoch 71/100\n",
      "90/90 [==============================] - 25s 274ms/step - loss: 0.2483 - accuracy: 0.9433 - val_loss: 8.4833e-04 - val_accuracy: 1.0000\n",
      "Epoch 72/100\n",
      "90/90 [==============================] - 25s 277ms/step - loss: 0.0694 - accuracy: 0.9844 - val_loss: 6.3582e-05 - val_accuracy: 1.0000\n",
      "Epoch 73/100\n",
      "90/90 [==============================] - 25s 273ms/step - loss: 0.0899 - accuracy: 0.9789 - val_loss: 4.2690e-04 - val_accuracy: 1.0000\n",
      "Epoch 74/100\n",
      "90/90 [==============================] - 25s 279ms/step - loss: 0.1778 - accuracy: 0.9622 - val_loss: 0.0058 - val_accuracy: 1.0000\n",
      "Epoch 75/100\n",
      "90/90 [==============================] - 25s 281ms/step - loss: 0.0856 - accuracy: 0.9789 - val_loss: 6.4948e-04 - val_accuracy: 1.0000\n",
      "Epoch 76/100\n",
      "90/90 [==============================] - 25s 276ms/step - loss: 0.0975 - accuracy: 0.9778 - val_loss: 0.0015 - val_accuracy: 1.0000\n",
      "Epoch 77/100\n",
      "90/90 [==============================] - 25s 281ms/step - loss: 0.0373 - accuracy: 0.9878 - val_loss: 0.0063 - val_accuracy: 1.0000\n",
      "Epoch 78/100\n",
      "90/90 [==============================] - 25s 277ms/step - loss: 0.1081 - accuracy: 0.9811 - val_loss: 3.6839e-05 - val_accuracy: 1.0000\n",
      "Epoch 79/100\n",
      "90/90 [==============================] - 27s 296ms/step - loss: 0.1307 - accuracy: 0.9678 - val_loss: 0.0251 - val_accuracy: 0.9900\n",
      "Epoch 80/100\n",
      "90/90 [==============================] - 31s 343ms/step - loss: 0.1865 - accuracy: 0.9467 - val_loss: 0.0175 - val_accuracy: 0.9900\n",
      "Epoch 81/100\n",
      "90/90 [==============================] - 29s 323ms/step - loss: 0.1045 - accuracy: 0.9689 - val_loss: 2.4530e-04 - val_accuracy: 1.0000\n",
      "Epoch 82/100\n",
      "90/90 [==============================] - 28s 311ms/step - loss: 0.1240 - accuracy: 0.9733 - val_loss: 5.1249e-04 - val_accuracy: 1.0000\n",
      "Epoch 83/100\n",
      "90/90 [==============================] - 34s 383ms/step - loss: 0.0289 - accuracy: 0.9911 - val_loss: 3.5674e-05 - val_accuracy: 1.0000\n",
      "Epoch 84/100\n",
      "90/90 [==============================] - 30s 331ms/step - loss: 0.0608 - accuracy: 0.9856 - val_loss: 9.1994e-04 - val_accuracy: 1.0000\n",
      "Epoch 85/100\n",
      "90/90 [==============================] - 29s 328ms/step - loss: 0.1450 - accuracy: 0.9778 - val_loss: 0.0117 - val_accuracy: 0.9900\n",
      "Epoch 86/100\n",
      "90/90 [==============================] - 22s 246ms/step - loss: 0.0549 - accuracy: 0.9833 - val_loss: 8.3280e-06 - val_accuracy: 1.0000\n",
      "Epoch 87/100\n",
      "90/90 [==============================] - 24s 264ms/step - loss: 0.0570 - accuracy: 0.9867 - val_loss: 0.0076 - val_accuracy: 0.9900\n",
      "Epoch 88/100\n",
      "90/90 [==============================] - 35s 393ms/step - loss: 0.2053 - accuracy: 0.9533 - val_loss: 0.0295 - val_accuracy: 0.9900\n",
      "Epoch 89/100\n",
      "90/90 [==============================] - 27s 296ms/step - loss: 0.1142 - accuracy: 0.9767 - val_loss: 6.3286e-04 - val_accuracy: 1.0000\n",
      "Epoch 90/100\n",
      "90/90 [==============================] - 25s 277ms/step - loss: 0.1527 - accuracy: 0.9711 - val_loss: 0.0343 - val_accuracy: 0.9900\n",
      "Epoch 91/100\n",
      "90/90 [==============================] - 25s 276ms/step - loss: 0.1223 - accuracy: 0.9600 - val_loss: 9.5013e-04 - val_accuracy: 1.0000\n",
      "Epoch 92/100\n",
      "90/90 [==============================] - 25s 279ms/step - loss: 0.0613 - accuracy: 0.9867 - val_loss: 0.0018 - val_accuracy: 1.0000\n",
      "Epoch 93/100\n",
      "90/90 [==============================] - 25s 280ms/step - loss: 0.0507 - accuracy: 0.9878 - val_loss: 0.0017 - val_accuracy: 1.0000\n",
      "Epoch 94/100\n",
      "90/90 [==============================] - 25s 277ms/step - loss: 0.0473 - accuracy: 0.9878 - val_loss: 0.0297 - val_accuracy: 0.9900\n",
      "Epoch 95/100\n",
      "90/90 [==============================] - 25s 277ms/step - loss: 0.1345 - accuracy: 0.9711 - val_loss: 0.0011 - val_accuracy: 1.0000\n",
      "Epoch 96/100\n",
      "90/90 [==============================] - 25s 277ms/step - loss: 0.0531 - accuracy: 0.9844 - val_loss: 0.0069 - val_accuracy: 1.0000\n",
      "Epoch 97/100\n",
      "90/90 [==============================] - 25s 275ms/step - loss: 0.0246 - accuracy: 0.9900 - val_loss: 0.0167 - val_accuracy: 0.9900\n",
      "Epoch 98/100\n",
      "90/90 [==============================] - 25s 279ms/step - loss: 0.0749 - accuracy: 0.9833 - val_loss: 0.0085 - val_accuracy: 1.0000\n",
      "Epoch 99/100\n",
      "90/90 [==============================] - 25s 278ms/step - loss: 0.0817 - accuracy: 0.9767 - val_loss: 0.0011 - val_accuracy: 1.0000\n",
      "Epoch 100/100\n",
      "90/90 [==============================] - 25s 278ms/step - loss: 0.0990 - accuracy: 0.9822 - val_loss: 0.0045 - val_accuracy: 1.0000\n"
     ]
    },
    {
     "data": {
      "text/plain": [
       "<keras.callbacks.History at 0x1d545c25240>"
      ]
     },
     "execution_count": 9,
     "metadata": {},
     "output_type": "execute_result"
    }
   ],
   "source": [
    "model = create_model()\n",
    "model.summary()\n",
    "model.fit(train_gen,\n",
    "          epochs = 100,\n",
    "          validation_data = val_gen,\n",
    "          verbose=1\n",
    "          )"
   ]
  },
  {
   "cell_type": "code",
   "execution_count": 10,
   "metadata": {},
   "outputs": [
    {
     "data": {
      "image/png": "[encoded data removed]",
      "text/plain": [
       "<Figure size 432x288 with 1 Axes>"
      ]
     },
     "metadata": {
      "needs_background": "light"
     },
     "output_type": "display_data"
    },
    {
     "data": {
      "image/png": "[encoded data removed]",
      "text/plain": [
       "<Figure size 432x288 with 1 Axes>"
      ]
     },
     "metadata": {
      "needs_background": "light"
     },
     "output_type": "display_data"
    }
   ],
   "source": [
    "import matplotlib.pyplot as plt\n",
    "\n",
    "\n",
    "acc = model.history.history['accuracy']\n",
    "val_acc = model.history.history['val_accuracy']\n",
    "loss = model.history.history['loss']\n",
    "val_loss = model.history.history['val_loss']\n",
    "\n",
    "epochs=range(len(acc))\n",
    "\n",
    "plt.plot(epochs, acc, 'r', \"Training Accuracy\")\n",
    "plt.plot(epochs, val_acc, 'b', \"Validation Accuracy\")\n",
    "plt.title('Training and validation accuracy')\n",
    "plt.show()\n",
    "\n",
    "plt.plot(epochs, loss, 'r', \"Training Loss\")\n",
    "plt.plot(epochs, val_loss, 'b', \"Validation Loss\")\n",
    "plt.show()"
   ]
  },
  {
   "cell_type": "code",
   "execution_count": 11,
   "metadata": {},
   "outputs": [
    {
     "name": "stdout",
     "output_type": "stream",
     "text": [
      "100/100 [==============================] - 1s 13ms/step - loss: 0.0045 - accuracy: 1.0000\n"
     ]
    },
    {
     "data": {
      "text/plain": [
       "[0.0044698710553348064, 1.0]"
      ]
     },
     "execution_count": 11,
     "metadata": {},
     "output_type": "execute_result"
    }
   ],
   "source": [
    "model.evaluate(val_gen)"
   ]
  },
  {
   "cell_type": "code",
   "execution_count": 12,
   "metadata": {},
   "outputs": [],
   "source": [
    "predictions = model.predict(val_gen)"
   ]
  },
  {
   "cell_type": "code",
   "execution_count": 13,
   "metadata": {},
   "outputs": [
    {
     "name": "stdout",
     "output_type": "stream",
     "text": [
      "[[8.3602352e-13 1.0000000e+00 4.3741202e-09 ... 2.2419496e-16\n",
      "  8.6617409e-24 0.0000000e+00]\n",
      " [8.9739492e-12 1.8903472e-04 1.6287917e-06 ... 9.4724135e-05\n",
      "  3.8063576e-13 2.7038189e-26]\n",
      " [5.1692758e-11 9.9999988e-01 8.4442000e-08 ... 4.8673539e-14\n",
      "  2.8368418e-20 3.1200334e-38]\n",
      " ...\n",
      " [1.8153039e-10 9.9999976e-01 2.0735743e-07 ... 2.4178302e-13\n",
      "  3.1645219e-19 3.0153572e-36]\n",
      " [3.1276776e-26 9.1362281e-18 3.2558474e-17 ... 5.9412815e-07\n",
      "  4.8593271e-18 0.0000000e+00]\n",
      " [2.0044901e-28 3.0854434e-19 1.2185303e-18 ... 1.7541196e-07\n",
      "  1.5717958e-19 0.0000000e+00]]\n"
     ]
    }
   ],
   "source": [
    "print (predictions)"
   ]
  },
  {
   "cell_type": "code",
   "execution_count": 14,
   "metadata": {},
   "outputs": [],
   "source": [
    "model.save(\"model.h5\")"
   ]
  },
  {
   "cell_type": "code",
   "execution_count": 15,
   "metadata": {},
   "outputs": [
    {
     "name": "stdout",
     "output_type": "stream",
     "text": [
      "INFO:tensorflow:Assets written to: model/assets\n"
     ]
    }
   ],
   "source": [
    "export_dir='model/'\n",
    "tf.saved_model.save(model, export_dir)"
   ]
  },
  {
   "cell_type": "code",
   "execution_count": 16,
   "metadata": {},
   "outputs": [],
   "source": [
    "import pathlib\n",
    "\n",
    "mode=\"speed\"\n",
    "\n",
    "if mode==\"storage\":\n",
    "    opt = tf.lite.Optimize.OPTIMIZE_FOR_SIZE\n",
    "if mode==\"speed\":\n",
    "    opt = tf.lite.Optimize.OPTIMIZE_FOR_LATENCY\n",
    "else :\n",
    "    opt = tf.lite.Optimize.DEFAULT"
   ]
  },
  {
   "cell_type": "code",
   "execution_count": 17,
   "metadata": {},
   "outputs": [
    {
     "name": "stderr",
     "output_type": "stream",
     "text": [
      "WARNING:absl:Optimization option OPTIMIZE_FOR_LATENCY is deprecated, please use optimizations=[Optimize.DEFAULT] instead.\n",
      "WARNING:absl:Optimization option OPTIMIZE_FOR_LATENCY is deprecated, please use optimizations=[Optimize.DEFAULT] instead.\n",
      "WARNING:absl:Optimization option OPTIMIZE_FOR_LATENCY is deprecated, please use optimizations=[Optimize.DEFAULT] instead.\n",
      "WARNING:absl:Buffer deduplication procedure will be skipped when flatbuffer library is not properly loaded\n"
     ]
    }
   ],
   "source": [
    "converter = tf.lite.TFLiteConverter.from_saved_model(export_dir)\n",
    "\n",
    "converter.optimizations = [opt]\n",
    "\n",
    "tflite_model = converter.convert()\n"
   ]
  },
  {
   "cell_type": "code",
   "execution_count": 18,
   "metadata": {},
   "outputs": [
    {
     "name": "stdout",
     "output_type": "stream",
     "text": [
      "2.8.0\n"
     ]
    }
   ],
   "source": [
    "print(tf.__version__)"
   ]
  },
  {
   "cell_type": "code",
   "execution_count": 19,
   "metadata": {},
   "outputs": [
    {
     "data": {
      "text/plain": [
       "979120"
      ]
     },
     "execution_count": 19,
     "metadata": {},
     "output_type": "execute_result"
    }
   ],
   "source": [
    "tflite_model_file = pathlib.Path('./model.tflite')\n",
    "tflite_model_file.write_bytes(tflite_model)"
   ]
  },
  {
   "cell_type": "code",
   "execution_count": null,
   "metadata": {},
   "outputs": [],
   "source": []
  }
 ],
 "metadata": {
  "colab": {
   "name": "SAI.ipynb",
   "provenance": []
  },
  "interpreter": {
   "hash": "9d14f3cb4f3f66916ff7792d598eca6bcb6161e9a0aec2e5c2bb64d090dc6dc0"
  },
  "kernelspec": {
   "display_name": "Python 3 (ipykernel)",
   "language": "python",
   "name": "python3"
  },
  "language_info": {
   "codemirror_mode": {
    "name": "ipython",
    "version": 3
   },
   "file_extension": ".py",
   "mimetype": "text/x-python",
   "name": "python",
   "nbconvert_exporter": "python",
   "pygments_lexer": "ipython3",
   "version": "3.10.1"
  }
 },
 "nbformat": 4,
 "nbformat_minor": 1
}
